{
  "nbformat": 4,
  "nbformat_minor": 0,
  "metadata": {
    "colab": {
      "name": "pyTorch Basics.ipynb",
      "provenance": []
    },
    "kernelspec": {
      "name": "python3",
      "display_name": "Python 3"
    },
    "language_info": {
      "name": "python"
    },
    "accelerator": "GPU"
  },
  "cells": [
    {
      "cell_type": "code",
      "execution_count": 6,
      "metadata": {
        "id": "1iTfuFLKM0bd"
      },
      "outputs": [],
      "source": [
        "import torch as t\n",
        "import numpy as np"
      ]
    },
    {
      "cell_type": "code",
      "source": [
        "torch.__version__"
      ],
      "metadata": {
        "colab": {
          "base_uri": "https://localhost:8080/",
          "height": 35
        },
        "id": "NcOm70CQM3sb",
        "outputId": "6ae4d2cc-aad4-490b-ee2a-c313ccfff394"
      },
      "execution_count": 7,
      "outputs": [
        {
          "output_type": "execute_result",
          "data": {
            "application/vnd.google.colaboratory.intrinsic+json": {
              "type": "string"
            },
            "text/plain": [
              "'1.10.0+cu111'"
            ]
          },
          "metadata": {},
          "execution_count": 7
        }
      ]
    },
    {
      "cell_type": "code",
      "source": [
        "torch.cuda.is_available()"
      ],
      "metadata": {
        "id": "HV_z1MDSg9nY",
        "outputId": "df87ca6f-3891-419c-e68a-c5655d608072",
        "colab": {
          "base_uri": "https://localhost:8080/"
        }
      },
      "execution_count": 22,
      "outputs": [
        {
          "output_type": "execute_result",
          "data": {
            "text/plain": [
              "True"
            ]
          },
          "metadata": {},
          "execution_count": 22
        }
      ]
    },
    {
      "cell_type": "code",
      "source": [
        "torch.cuda.current_device()"
      ],
      "metadata": {
        "id": "iZluR0gRhBFZ",
        "outputId": "10f68815-b5d8-4cd2-d2cb-d63b41cb4e5f",
        "colab": {
          "base_uri": "https://localhost:8080/"
        }
      },
      "execution_count": 23,
      "outputs": [
        {
          "output_type": "execute_result",
          "data": {
            "text/plain": [
              "0"
            ]
          },
          "metadata": {},
          "execution_count": 23
        }
      ]
    },
    {
      "cell_type": "code",
      "source": [
        "torch.cuda.get_device_name(0)"
      ],
      "metadata": {
        "id": "uMJ118NvhBHs",
        "outputId": "be3f0ed1-8505-42b5-8f35-0b80e7156243",
        "colab": {
          "base_uri": "https://localhost:8080/",
          "height": 35
        }
      },
      "execution_count": 24,
      "outputs": [
        {
          "output_type": "execute_result",
          "data": {
            "application/vnd.google.colaboratory.intrinsic+json": {
              "type": "string"
            },
            "text/plain": [
              "'Tesla K80'"
            ]
          },
          "metadata": {},
          "execution_count": 24
        }
      ]
    },
    {
      "cell_type": "code",
      "source": [
        "lst =[1,2,3,4,5]\n",
        "arr = np.array(lst)\n",
        "arr.dtype"
      ],
      "metadata": {
        "id": "d7jnGc0rNFMj",
        "outputId": "9737f1c6-6b02-43f5-e0fc-da78a8cf1508",
        "colab": {
          "base_uri": "https://localhost:8080/"
        }
      },
      "execution_count": 8,
      "outputs": [
        {
          "output_type": "execute_result",
          "data": {
            "text/plain": [
              "dtype('int64')"
            ]
          },
          "metadata": {},
          "execution_count": 8
        }
      ]
    },
    {
      "cell_type": "markdown",
      "source": [
        "Convert Numpy to Tensor"
      ],
      "metadata": {
        "id": "GZeNCgpzXZuI"
      }
    },
    {
      "cell_type": "code",
      "source": [
        "tensor = t.from_numpy(arr)\n",
        "tensor"
      ],
      "metadata": {
        "id": "vCMobOp_XR6n",
        "outputId": "3dcb2392-1e30-4ca8-fbbc-e638e0188682",
        "colab": {
          "base_uri": "https://localhost:8080/"
        }
      },
      "execution_count": 9,
      "outputs": [
        {
          "output_type": "execute_result",
          "data": {
            "text/plain": [
              "tensor([1, 2, 3, 4, 5])"
            ]
          },
          "metadata": {},
          "execution_count": 9
        }
      ]
    },
    {
      "cell_type": "code",
      "source": [
        "tensor.dtype"
      ],
      "metadata": {
        "id": "TBY8_HYbXlY9",
        "outputId": "58806af1-1b4c-4c33-a49c-27341d0f676a",
        "colab": {
          "base_uri": "https://localhost:8080/"
        }
      },
      "execution_count": 10,
      "outputs": [
        {
          "output_type": "execute_result",
          "data": {
            "text/plain": [
              "torch.int64"
            ]
          },
          "metadata": {},
          "execution_count": 10
        }
      ]
    },
    {
      "cell_type": "code",
      "source": [
        "tensor[1:3]"
      ],
      "metadata": {
        "id": "JOviPmf5Xove",
        "outputId": "420b7ce8-c105-422e-b639-0bdfd39e3e44",
        "colab": {
          "base_uri": "https://localhost:8080/"
        }
      },
      "execution_count": 12,
      "outputs": [
        {
          "output_type": "execute_result",
          "data": {
            "text/plain": [
              "tensor([2, 3])"
            ]
          },
          "metadata": {},
          "execution_count": 12
        }
      ]
    },
    {
      "cell_type": "code",
      "source": [
        "## Disadvantage of from_numpy : The array and tensor takes same memory location\n",
        "tensor[2] = 30\n",
        "print(tensor)\n",
        "print(arr)"
      ],
      "metadata": {
        "id": "T6ntVjm0Xw2X",
        "outputId": "069652e9-bb3b-4c76-f3e7-152476f23009",
        "colab": {
          "base_uri": "https://localhost:8080/"
        }
      },
      "execution_count": 15,
      "outputs": [
        {
          "output_type": "stream",
          "name": "stdout",
          "text": [
            "tensor([ 1,  2, 30,  4,  5])\n",
            "[ 1  2 30  4  5]\n"
          ]
        }
      ]
    },
    {
      "cell_type": "code",
      "source": [
        "#To prevent above scnerio\n",
        "tensor_arr=torch.tensor(arr)\n",
        "tensor_arr"
      ],
      "metadata": {
        "id": "oNpFgIaAY1h6",
        "outputId": "d799d840-3ecb-4dfe-d12e-e14f6f69ac4f",
        "colab": {
          "base_uri": "https://localhost:8080/"
        }
      },
      "execution_count": 16,
      "outputs": [
        {
          "output_type": "execute_result",
          "data": {
            "text/plain": [
              "tensor([ 1,  2, 30,  4,  5])"
            ]
          },
          "metadata": {},
          "execution_count": 16
        }
      ]
    },
    {
      "cell_type": "code",
      "source": [
        "tensor_arr[2] =40\n",
        "print(tensor_arr)\n",
        "print(arr)"
      ],
      "metadata": {
        "id": "iBoodXqqZhzK",
        "outputId": "ccba654e-c15e-4a76-94e7-c1a1aeb32b35",
        "colab": {
          "base_uri": "https://localhost:8080/"
        }
      },
      "execution_count": 17,
      "outputs": [
        {
          "output_type": "stream",
          "name": "stdout",
          "text": [
            "tensor([ 1,  2, 40,  4,  5])\n",
            "[ 1  2 30  4  5]\n"
          ]
        }
      ]
    },
    {
      "cell_type": "code",
      "source": [
        "##zeros and ones\n",
        "torch.zeros(2,3)"
      ],
      "metadata": {
        "id": "GXi_fht5ZqWV",
        "outputId": "017e84d0-3954-45ac-9a7c-6b1c06989c64",
        "colab": {
          "base_uri": "https://localhost:8080/"
        }
      },
      "execution_count": 18,
      "outputs": [
        {
          "output_type": "execute_result",
          "data": {
            "text/plain": [
              "tensor([[0., 0., 0.],\n",
              "        [0., 0., 0.]])"
            ]
          },
          "metadata": {},
          "execution_count": 18
        }
      ]
    },
    {
      "cell_type": "code",
      "source": [
        "torch.ones(2,3)"
      ],
      "metadata": {
        "id": "KrM1lk45ZyYx",
        "outputId": "4a8b821b-0748-4987-f870-e525e57d2333",
        "colab": {
          "base_uri": "https://localhost:8080/"
        }
      },
      "execution_count": 19,
      "outputs": [
        {
          "output_type": "execute_result",
          "data": {
            "text/plain": [
              "tensor([[1., 1., 1.],\n",
              "        [1., 1., 1.]])"
            ]
          },
          "metadata": {},
          "execution_count": 19
        }
      ]
    },
    {
      "cell_type": "markdown",
      "source": [
        "##### Arithmetic Operation"
      ],
      "metadata": {
        "id": "oLmvKJVEbW61"
      }
    },
    {
      "cell_type": "code",
      "source": [
        "a = torch.tensor([3,4,5], dtype=torch.float)\n",
        "b = torch.tensor([4,5,6], dtype=torch.float)\n",
        "print(a + b)"
      ],
      "metadata": {
        "id": "qrv_JfcTZ1Db",
        "outputId": "e77d7f17-56f3-4004-bc69-dbeaf964a78d",
        "colab": {
          "base_uri": "https://localhost:8080/"
        }
      },
      "execution_count": 20,
      "outputs": [
        {
          "output_type": "stream",
          "name": "stdout",
          "text": [
            "tensor([ 7.,  9., 11.])\n"
          ]
        }
      ]
    },
    {
      "cell_type": "code",
      "source": [
        "torch.add(a,b)"
      ],
      "metadata": {
        "id": "7O5uqjCqbWQu",
        "outputId": "5190002f-1c87-4ce3-9632-901b902480f5",
        "colab": {
          "base_uri": "https://localhost:8080/"
        }
      },
      "execution_count": 21,
      "outputs": [
        {
          "output_type": "execute_result",
          "data": {
            "text/plain": [
              "tensor([ 7.,  9., 11.])"
            ]
          },
          "metadata": {},
          "execution_count": 21
        }
      ]
    },
    {
      "cell_type": "code",
      "source": [
        ""
      ],
      "metadata": {
        "id": "-NDWrJiCbc3w"
      },
      "execution_count": null,
      "outputs": []
    }
  ]
}